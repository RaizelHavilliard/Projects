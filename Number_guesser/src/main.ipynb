{
 "cells": [
  {
   "cell_type": "code",
   "execution_count": 24,
   "id": "95a4be56",
   "metadata": {},
   "outputs": [],
   "source": [
    "\n",
    "import random\n",
    "\n",
    "def start_game():\n",
    "    game_num = random.randint(1, 100)\n",
    "    score = 100\n",
    "\n",
    "    while True:\n",
    "        input_num = input(\"hi please enter your guess: \")\n",
    "        user_guess = input_num\n",
    "\n",
    "        if user_guess == \"q\":\n",
    "            print(\"thank you good bye\")\n",
    "            break\n",
    "\n",
    "        elif not user_guess.isdigit():\n",
    "            print(\"invalid value please enter a number between 1 and 100\")\n",
    "            continue\n",
    "\n",
    "        else: \n",
    "            user_guess = int(input_num)\n",
    "            if user_guess > 100 or user_guess < 0:\n",
    "                print(\"keep it in the range of 1 to 100\")\n",
    "                continue\n",
    "    \n",
    "    \n",
    "        user_guess = int(user_guess)\n",
    "        if user_guess == game_num:\n",
    "            print(f\"congrats!! you guessed correctly your score is {score}\")\n",
    "            wanna_play = input(\"do you wanna play again?(y/n) \")\n",
    "            if wanna_play == \"y\":\n",
    "                game_num = random.randint(1, 100)\n",
    "                score == 100 \n",
    "                continue\n",
    "            else: \n",
    "                print(\"bye bye\")\n",
    "                break\n",
    "        elif user_guess > game_num:\n",
    "            print(\"too high try again\")\n",
    "        elif user_guess < game_num:\n",
    "            print(\"too low try again\")\n",
    "\n",
    "        score -= 5\n",
    "        score = max(score, 0)\n",
    "                    \n",
    "            \n",
    "\n"
   ]
  }
 ],
 "metadata": {
  "kernelspec": {
   "display_name": "py312",
   "language": "python",
   "name": "python3"
  },
  "language_info": {
   "codemirror_mode": {
    "name": "ipython",
    "version": 3
   },
   "file_extension": ".py",
   "mimetype": "text/x-python",
   "name": "python",
   "nbconvert_exporter": "python",
   "pygments_lexer": "ipython3",
   "version": "3.12.11"
  }
 },
 "nbformat": 4,
 "nbformat_minor": 5
}
