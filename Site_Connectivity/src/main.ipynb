{
 "cells": [
  {
   "cell_type": "code",
   "execution_count": 29,
   "id": "9075c949",
   "metadata": {},
   "outputs": [],
   "source": [
    "urls: [\n",
    "    \"https://www.tradingview.com/\",\n",
    "    \"https://www.pytopia.ai/learnings\",\n",
    "    \"https://formations.pantheonsorbonne.fr/fr/index.html\",\n",
    "    \"https://pastel.diplomatie.gouv.fr/etudesenfrance\",\n",
    "]"
   ]
  },
  {
   "cell_type": "code",
   "execution_count": 35,
   "id": "42d3eee9",
   "metadata": {},
   "outputs": [],
   "source": [
    "check_site(\"https://www.tradingview.com/\")"
   ]
  },
  {
   "cell_type": "code",
   "execution_count": null,
   "id": "52a9c9db",
   "metadata": {},
   "outputs": [],
   "source": []
  }
 ],
 "metadata": {
  "kernelspec": {
   "display_name": "py312",
   "language": "python",
   "name": "python3"
  },
  "language_info": {
   "codemirror_mode": {
    "name": "ipython",
    "version": 3
   },
   "file_extension": ".py",
   "mimetype": "text/x-python",
   "name": "python",
   "nbconvert_exporter": "python",
   "pygments_lexer": "ipython3",
   "version": "3.12.11"
  }
 },
 "nbformat": 4,
 "nbformat_minor": 5
}
