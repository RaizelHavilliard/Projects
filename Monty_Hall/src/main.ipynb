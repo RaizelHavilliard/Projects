{
 "cells": [
  {
   "cell_type": "code",
   "execution_count": 1,
   "id": "9906c06c",
   "metadata": {},
   "outputs": [],
   "source": [
    "import random"
   ]
  },
  {
   "cell_type": "code",
   "execution_count": 84,
   "id": "347cb99e",
   "metadata": {},
   "outputs": [
    {
     "name": "stdout",
     "output_type": "stream",
     "text": [
      "0\n"
     ]
    }
   ],
   "source": [
    "\n",
    "first_choice = random.choice(range(3))\n",
    "def Monty_hall_doors(switch_doors):\n",
    "\n",
    "    doors = ['car', 'goat', 'goat']\n",
    "    random.shuffle(doors)\n",
    "\n",
    "\n",
    "    door_revealed = [i for i in range(3) if i != first_choice and doors[i] == 'goat']\n",
    "    door_revealed = random.choice(door_revealed)\n",
    "\n",
    "    if switch_doors:\n",
    "        final_choice = [i for i in range(3) if i != door_revealed and i != first_choice][0]\n",
    "    else:\n",
    "        final_choice = first_choice\n",
    "\n",
    "    return doors[final_choice] == 'car'    \n",
    "\n",
    "print(first_choice)"
   ]
  },
  {
   "cell_type": "code",
   "execution_count": 107,
   "id": "1829667d",
   "metadata": {},
   "outputs": [
    {
     "data": {
      "text/plain": [
       "True"
      ]
     },
     "execution_count": 204,
     "metadata": {},
     "output_type": "execute_result"
    }
   ],
   "source": [
    "Monty_hall_doors(True)\n"
   ]
  },
  {
   "cell_type": "code",
   "execution_count": null,
   "id": "2a56e53a",
   "metadata": {},
   "outputs": [],
   "source": [
    "def simulating_game():\n",
    "    num_games = int(input(\"how many time you wanna simulate?:\"))\n",
    "    num_with_switch = sum(Monty_hall_doors(switch_doors=True) for _ in range(num_games))\n",
    "    num_without_switch = sum(Monty_hall_doors(switch_doors=False) for _ in range(num_games))\n",
    "    return num_with_switch, num_without_switch"
   ]
  }
 ],
 "metadata": {
  "kernelspec": {
   "display_name": "py312",
   "language": "python",
   "name": "python3"
  },
  "language_info": {
   "codemirror_mode": {
    "name": "ipython",
    "version": 3
   },
   "file_extension": ".py",
   "mimetype": "text/x-python",
   "name": "python",
   "nbconvert_exporter": "python",
   "pygments_lexer": "ipython3",
   "version": "3.12.11"
  }
 },
 "nbformat": 4,
 "nbformat_minor": 5
}
