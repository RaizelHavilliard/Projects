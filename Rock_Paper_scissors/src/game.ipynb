{
 "cells": [
  {
   "cell_type": "code",
   "execution_count": 28,
   "id": "04e7c721",
   "metadata": {},
   "outputs": [],
   "source": [
    "import random\n",
    "\n",
    "class RockPaperScissors:\n",
    "    def __init__(self, name):\n",
    "        self.name = name\n",
    "\n",
    "    def __repr__(self):\n",
    "        return (f\"{self.name}\")\n",
    "    \n",
    "C1 = RockPaperScissors(\"rock\")\n",
    "C2 = RockPaperScissors(\"paper\")\n",
    "C3 = RockPaperScissors(\"scissor\")\n",
    "\n",
    "Items = [C1, C2, C3]\n",
    "\n",
    "Computer_choice = random.choice(Items)\n"
   ]
  },
  {
   "cell_type": "code",
   "execution_count": 29,
   "id": "832d65cb",
   "metadata": {},
   "outputs": [],
   "source": [
    "player_choice = input(\"please type your choice between; rock, paper, scissor: \")\n",
    "if player_choice.lower() not in [\"rock\", \"paper\", \"scissor\"]:\n",
    "    print(\"invalid answer, try again\")\n",
    "    player_choice = input(\"please type your choice between; rock, paper, scissor: \")"
   ]
  },
  {
   "cell_type": "code",
   "execution_count": 30,
   "id": "c6748d01",
   "metadata": {},
   "outputs": [],
   "source": [
    "def compare(player_choice, computer_choice):\n",
    "    if player_choice == Computer_choice:\n",
    "        print(\"it's a tie!\")\n",
    "    elif player_choice == (\"paper\") and computer_choice == (\"rock\") / player_choice == (\"rock\") and computer_choice == (\"scissor\") / player_choice == (\"scissors\") and computer_choice == (\"paper\"):\n",
    "        return \"woah!! you won\"\n",
    "    else:\n",
    "        return \"oops, computer won\"  \n"
   ]
  }
 ],
 "metadata": {
  "kernelspec": {
   "display_name": "py312",
   "language": "python",
   "name": "python3"
  },
  "language_info": {
   "codemirror_mode": {
    "name": "ipython",
    "version": 3
   },
   "file_extension": ".py",
   "mimetype": "text/x-python",
   "name": "python",
   "nbconvert_exporter": "python",
   "pygments_lexer": "ipython3",
   "version": "3.12.11"
  }
 },
 "nbformat": 4,
 "nbformat_minor": 5
}
