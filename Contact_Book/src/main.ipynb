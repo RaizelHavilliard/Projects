{
 "cells": [
  {
   "cell_type": "code",
   "execution_count": 32,
   "id": "85e81ef2",
   "metadata": {},
   "outputs": [],
   "source": [
    "book = ContactBook()"
   ]
  },
  {
   "cell_type": "code",
   "execution_count": 33,
   "id": "c4c0fa82",
   "metadata": {},
   "outputs": [
    {
     "name": "stdout",
     "output_type": "stream",
     "text": [
      "contact succesfully added\n"
     ]
    }
   ],
   "source": [
    "book.add_contact('Raizel', '65532269', 'Raizel@gmail.come')"
   ]
  },
  {
   "cell_type": "code",
   "execution_count": 38,
   "id": "7a870dab",
   "metadata": {},
   "outputs": [],
   "source": [
    "book.view_contact()\n"
   ]
  },
  {
   "cell_type": "code",
   "execution_count": 39,
   "id": "d5835bd4",
   "metadata": {},
   "outputs": [
    {
     "name": "stdout",
     "output_type": "stream",
     "text": [
      "contact not found\n"
     ]
    }
   ],
   "source": [
    "book.update_contact(('Raizel'), ('55896321'))"
   ]
  },
  {
   "cell_type": "code",
   "execution_count": 40,
   "id": "71619274",
   "metadata": {},
   "outputs": [
    {
     "name": "stdout",
     "output_type": "stream",
     "text": [
      "contact not found\n"
     ]
    }
   ],
   "source": [
    "book.delete_contact('Raizel')"
   ]
  },
  {
   "cell_type": "code",
   "execution_count": null,
   "id": "56b8b642",
   "metadata": {},
   "outputs": [],
   "source": []
  }
 ],
 "metadata": {
  "kernelspec": {
   "display_name": "py312",
   "language": "python",
   "name": "python3"
  },
  "language_info": {
   "codemirror_mode": {
    "name": "ipython",
    "version": 3
   },
   "file_extension": ".py",
   "mimetype": "text/x-python",
   "name": "python",
   "nbconvert_exporter": "python",
   "pygments_lexer": "ipython3",
   "version": "3.12.11"
  }
 },
 "nbformat": 4,
 "nbformat_minor": 5
}
