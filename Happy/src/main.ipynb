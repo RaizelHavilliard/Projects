{
 "cells": [
  {
   "cell_type": "code",
   "execution_count": 40,
   "id": "1f4fbc0c",
   "metadata": {},
   "outputs": [],
   "source": [
    "def Is_happy():\n",
    "    seen_numbers = set()\n",
    "    n = int(input(\"write your guesse: \"))\n",
    "    while n!= 1 and n not in seen_numbers:\n",
    "        seen_numbers.add(n)\n",
    "        n = sum([int(i) **2 for i in str(n)])\n",
    "    return n == 1"
   ]
  },
  {
   "cell_type": "code",
   "execution_count": 42,
   "id": "6ae5eb4d",
   "metadata": {},
   "outputs": [
    {
     "data": {
      "text/plain": [
       "False"
      ]
     },
     "execution_count": 42,
     "metadata": {},
     "output_type": "execute_result"
    }
   ],
   "source": [
    "Is_happy()"
   ]
  }
 ],
 "metadata": {
  "kernelspec": {
   "display_name": "py312",
   "language": "python",
   "name": "python3"
  },
  "language_info": {
   "codemirror_mode": {
    "name": "ipython",
    "version": 3
   },
   "file_extension": ".py",
   "mimetype": "text/x-python",
   "name": "python",
   "nbconvert_exporter": "python",
   "pygments_lexer": "ipython3",
   "version": "3.12.11"
  }
 },
 "nbformat": 4,
 "nbformat_minor": 5
}
