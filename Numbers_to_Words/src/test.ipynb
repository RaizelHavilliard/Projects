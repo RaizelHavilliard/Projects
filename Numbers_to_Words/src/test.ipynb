{
 "cells": [
  {
   "cell_type": "code",
   "execution_count": 5,
   "id": "e72ce25f",
   "metadata": {},
   "outputs": [],
   "source": [
    "def num_to_world(num):\n",
    "    if num < 20:\n",
    "        return UNDER_20[num]\n",
    "    elif num < 100:\n",
    "        remainder = num % 10\n",
    "        if remainder == 0:\n",
    "            return TENS[num // 10]\n",
    "        return TENS[num // 10] + \" \" + UNDER_20[remainder]\n",
    "\n",
    "\n",
    "    pivot = max([key for key in ABOVE_100 if key <= num])\n",
    "    p1 = num_to_world(num // pivot)\n",
    "    p2 = ABOVE_100[pivot]\n",
    "    if num % pivot == 0:\n",
    "        return f'{p1} {p2}'\n",
    "    else:\n",
    "        return f'{p1} {p2} {num_to_world(num % pivot)}'      \n",
    " "
   ]
  },
  {
   "cell_type": "code",
   "execution_count": 6,
   "id": "c777e89a",
   "metadata": {},
   "outputs": [
    {
     "data": {
      "text/plain": [
       "'Zero'"
      ]
     },
     "execution_count": 6,
     "metadata": {},
     "output_type": "execute_result"
    }
   ],
   "source": [
    "num_to_world(0)\n"
   ]
  }
 ],
 "metadata": {
  "kernelspec": {
   "display_name": "py312",
   "language": "python",
   "name": "python3"
  },
  "language_info": {
   "codemirror_mode": {
    "name": "ipython",
    "version": 3
   },
   "file_extension": ".py",
   "mimetype": "text/x-python",
   "name": "python",
   "nbconvert_exporter": "python",
   "pygments_lexer": "ipython3",
   "version": "3.12.11"
  }
 },
 "nbformat": 4,
 "nbformat_minor": 5
}
