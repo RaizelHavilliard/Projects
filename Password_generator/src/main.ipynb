{
 "cells": [
  {
   "cell_type": "code",
   "execution_count": null,
   "id": "e0804108",
   "metadata": {},
   "outputs": [
    {
     "data": {
      "text/plain": [
       "'Z9l9lFtZ'"
      ]
     },
     "execution_count": 10,
     "metadata": {},
     "output_type": "execute_result"
    }
   ],
   "source": [
    "\n",
    "\n",
    "def random_password_generator(lenght = 8, include_numbers = True, include_symbols = True):\n",
    "    characters = string.ascii_letters\n",
    "    if include_numbers:\n",
    "        characters += string.digits\n",
    "    if include_symbols:\n",
    "        characters += string.punctuation()\n",
    "\n",
    "    return ''.join(random.choice(characters)for _ in range(lenght))     \n",
    "\n",
    "random_password_generator(8, True, False)       "
   ]
  },
  {
   "cell_type": "code",
   "execution_count": null,
   "id": "57766908",
   "metadata": {},
   "outputs": [],
   "source": []
  }
 ],
 "metadata": {
  "kernelspec": {
   "display_name": "py312",
   "language": "python",
   "name": "python3"
  },
  "language_info": {
   "codemirror_mode": {
    "name": "ipython",
    "version": 3
   },
   "file_extension": ".py",
   "mimetype": "text/x-python",
   "name": "python",
   "nbconvert_exporter": "python",
   "pygments_lexer": "ipython3",
   "version": "3.12.11"
  }
 },
 "nbformat": 4,
 "nbformat_minor": 5
}
